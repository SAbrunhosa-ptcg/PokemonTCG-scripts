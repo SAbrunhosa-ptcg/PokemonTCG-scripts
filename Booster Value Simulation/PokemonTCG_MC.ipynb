{
 "cells": [
  {
   "cell_type": "code",
   "execution_count": 75,
   "id": "21ce07ea",
   "metadata": {},
   "outputs": [],
   "source": [
    "### IMPORT LIBRARIES ###\n",
    "import random\n",
    "import matplotlib.pyplot as plt\n",
    "import pandas as pd\n",
    "import numpy as np\n",
    "from mpl_toolkits.axes_grid1 import host_subplot\n",
    "import mpl_toolkits.axisartist as AA"
   ]
  },
  {
   "cell_type": "code",
   "execution_count": 173,
   "id": "8d7aad4d",
   "metadata": {},
   "outputs": [
    {
     "name": "stdout",
     "output_type": "stream",
     "text": [
      "80 55 27 20 28 34 15 7\n"
     ]
    }
   ],
   "source": [
    "### IMPORT DATASET ###\n",
    "data = pd.read_csv(r'C:\\Users\\sofia\\My Drive\\Code\\Python\\PokemonTCG\\ParadoxRift_data.csv')\n",
    "\n",
    "#print(data)\n",
    "\n",
    "dfC = data[data['Rarity'] == 'C']\n",
    "dfU = data[data['Rarity'] == 'U']\n",
    "dfR = data[data['Rarity'] == 'R']\n",
    "dfDR = data[data['Rarity'] == 'DR']\n",
    "dfUR = data[data['Rarity'] == 'UR']\n",
    "dfIR = data[data['Rarity'] == 'IR']\n",
    "dfSIR = data[data['Rarity'] == 'SIR']\n",
    "dfHR = data[data['Rarity'] == 'HR']\n",
    "print(dfC.shape[0], dfU.shape[0], dfR.shape[0], dfDR.shape[0], dfUR.shape[0], dfIR.shape[0], dfSIR.shape[0], dfHR.shape[0])\n",
    "\n",
    "maxIOS = 4*10\n",
    "\n",
    "# Construct chase list\n",
    "baseChaseList = []\n",
    "for i in range(data.shape[0]):\n",
    "    if data['IOS'].iloc[i] == 4:\n",
    "        baseChaseList.append(data['Set number'].iloc[i])\n",
    "\n",
    "# Construct chase list of very rare cards\n",
    "rareChaseList = []\n",
    "for i in range(data.shape[0]):\n",
    "    if data['IOS'].iloc[i] == 5:\n",
    "        rareChaseList.append(data['Set number'].iloc[i])"
   ]
  },
  {
   "cell_type": "code",
   "execution_count": 174,
   "id": "b5dcfb83",
   "metadata": {},
   "outputs": [],
   "source": [
    "#### BOOSTER SLOT DISTRIBUTION ####\n",
    "# 1st, 2nd, 3rd, 4th slots = Common\n",
    "# 5th, 6th, 7th slots = Uncommon\n",
    "slot8_dist = [4/7, 2/7, 1/7]\n",
    "slot8_rarities = [dfC, dfU, dfR]\n",
    "slot9_dist = [32/63, 16/63, 8/63, 4/63, 2/63, 1/63]\n",
    "slot9_rarities = [dfC, dfU, dfR, dfIR, dfSIR, dfHR]\n",
    "slot10_dist = [12/15, 2/15, 1/15] \n",
    "slot10_rarities = [dfR, dfDR, dfUR]\n",
    "\n",
    "# For a given distribution of a slot in booster, return random card rarity in slot\n",
    "def GetSlot(dist, rarities):\n",
    "    rarity = random.choices(rarities, dist)\n",
    "    return rarity[0]\n",
    "\n",
    "#print(GetSlot(slot10_dist, slot10_rarities))"
   ]
  },
  {
   "cell_type": "code",
   "execution_count": 175,
   "id": "77334c35",
   "metadata": {},
   "outputs": [
    {
     "name": "stdout",
     "output_type": "stream",
     "text": [
      "     Set number     Card name Rarity  Value  IOS  IOS duplicate\n",
      "100         101         Nacli      C      0    0              0\n",
      "148         149       Loudred      C      0    0              0\n",
      "66           67      Oricorio      C      0    0              0\n",
      "129         130       Honedge      C      0    4              0\n",
      "149         150       Exploud      U      0    0              0\n",
      "145         146       Ambipom      U      0    0              0\n",
      "91           92       Gliscor      U      0    0              0\n",
      "179         180  Techno Radar      U      0    4              4\n",
      "15           16     Toedscool      C      0    0              0\n",
      "48           49     Golisopod      R      0    4              0\n"
     ]
    }
   ],
   "source": [
    "### CONSTRUCT RANDOM BOOSTER ###\n",
    "def ConstructBooster(data):\n",
    "    slot1 = dfC.sample(n=1, replace=True)\n",
    "    slot2 = dfC.sample(n=1, replace=True)\n",
    "    slot3 = dfC.sample(n=1, replace=True)\n",
    "    slot4 = dfC.sample(n=1, replace=True)\n",
    "    \n",
    "    #print(slot1)\n",
    "    #print(slot2)\n",
    "    #print(slot3)\n",
    "    #print(slot4)\n",
    "    \n",
    "    slot5 = dfU.sample(n=1, replace=True)\n",
    "    slot6 = dfU.sample(n=1, replace=True)\n",
    "    slot7 = dfU.sample(n=1, replace=True)\n",
    "    \n",
    "    #print(slot5)\n",
    "    #print(slot6)\n",
    "    #print(slot7)\n",
    "    \n",
    "    slot8 = GetSlot(slot8_dist, slot8_rarities).sample(n=1, replace=True)\n",
    "    slot9 = GetSlot(slot9_dist, slot9_rarities).sample(n=1, replace=True)\n",
    "    slot10 = GetSlot(slot10_dist, slot10_rarities).sample(n=1, replace=True)\n",
    "    \n",
    "    #print(slot8)\n",
    "    #print(slot9)\n",
    "    #print(slot10)\n",
    "    \n",
    "    booster = pd.concat([slot1, slot2, slot3, slot4, slot5, slot6, slot7, slot8, slot9, slot10])\n",
    "    #print(booster)\n",
    "    return booster\n",
    "\n",
    "booster = ConstructBooster(data)\n",
    "print(booster)"
   ]
  },
  {
   "cell_type": "code",
   "execution_count": 176,
   "id": "0badf0d0",
   "metadata": {},
   "outputs": [
    {
     "name": "stdout",
     "output_type": "stream",
     "text": [
      "DR: 104 counts 10.4%\n",
      "UR: 71 counts 7.1%\n",
      "IR: 59 counts 5.8999999999999995%\n",
      "SIR: 41 counts 4.1000000000000005%\n",
      "HR: 17 counts 1.7000000000000002%\n"
     ]
    }
   ],
   "source": [
    "### TEST DROP RATES ###\n",
    "# Experimental: DR (13.33%), UR (6.67%), IR (6.35%), SIR (3.17%), HR (1.59%)\n",
    "\n",
    "def PrintDropRates(rarity, fbatch, fboosterNumber):\n",
    "    try:\n",
    "        counts = fbatch['Rarity'].value_counts()[rarity]\n",
    "        percentage = counts/fboosterNumber * 100\n",
    "        print(rarity+':', counts, 'counts', str(percentage)+'%')\n",
    "    except:\n",
    "        print('No counts registered for ' + rarity + ' rarity.')\n",
    "\n",
    "testBatchNumber = 1000\n",
    "testBoosterBatch = data.copy()\n",
    "testBoosterBatch = testBoosterBatch.iloc[0:0]\n",
    "\n",
    "for i in range(testBatchNumber):\n",
    "    booster = ConstructBooster(data)\n",
    "    testBoosterBatch = pd.concat([testBoosterBatch, booster])\n",
    "\n",
    "PrintDropRates('DR', testBoosterBatch, testBatchNumber)\n",
    "PrintDropRates('UR', testBoosterBatch, testBatchNumber)\n",
    "PrintDropRates('IR', testBoosterBatch, testBatchNumber)\n",
    "PrintDropRates('SIR', testBoosterBatch, testBatchNumber)\n",
    "PrintDropRates('HR', testBoosterBatch, testBatchNumber)"
   ]
  },
  {
   "cell_type": "code",
   "execution_count": 177,
   "id": "484bafc9",
   "metadata": {},
   "outputs": [
    {
     "name": "stdout",
     "output_type": "stream",
     "text": [
      "Average value of the contents of a booster: 0.0€\n",
      "Min value of the contents of a booster: 0€\n",
      "Max value of the contents of a booster: 0€\n"
     ]
    }
   ],
   "source": [
    "### COMPUTE AVERAGE BOOSTER VALUE ###\n",
    "testBatchNumber = 10000\n",
    "cardValue = []\n",
    "\n",
    "for i in range(testBatchNumber):\n",
    "    booster = ConstructBooster(data)\n",
    "    cardValue.append(booster['Value'].sum())\n",
    "\n",
    "averageValue = np.average(cardValue)\n",
    "print('Average value of the contents of a booster:', str(averageValue) + '€')\n",
    "print('Min value of the contents of a booster:', str(np.min(cardValue)) + '€')\n",
    "print('Max value of the contents of a booster:', str(np.max(cardValue)) + '€')"
   ]
  },
  {
   "cell_type": "code",
   "execution_count": 178,
   "id": "daad6f22",
   "metadata": {},
   "outputs": [],
   "source": [
    "### CONSTRUCT RANDOM BOOSTER BATCH ### \n",
    "# Calculate IOS for each booster based on individual card IOS and duplicates\n",
    "# Construct card list\n",
    "def GetBoosterBatch(boosterNumber, chaseList, rareList):\n",
    "    cardList = []\n",
    "    tempChaseList = chaseList.copy()\n",
    "    tempRareList = rareList.copy()\n",
    "    IOSList = []\n",
    "    completionRatio = []\n",
    "    singleSavings = []\n",
    "    for i in range(boosterNumber):\n",
    "        IOS = 0\n",
    "        singleValue = 0\n",
    "        booster = ConstructBooster(data)\n",
    "        for j in range(10):\n",
    "            # Calculate IOS\n",
    "            if booster['Set number'].iloc[j] in cardList:\n",
    "                IOS+=booster['IOS duplicate'].iloc[j]\n",
    "            else:\n",
    "                IOS+=booster['IOS'].iloc[j]\n",
    "                cardList.append(booster['Set number'].iloc[j])\n",
    "            if booster['Set number'].iloc[j] in tempChaseList:\n",
    "                tempChaseList.remove(booster['Set number'].iloc[j])\n",
    "                singleValue += booster['Value'].iloc[j]\n",
    "            if booster['Set number'].iloc[j] in tempRareList:\n",
    "                tempRareList.remove(booster['Set number'].iloc[j])\n",
    "                singleValue += booster['Value'].iloc[j]\n",
    "            \n",
    "        IOSList.append(IOS)\n",
    "        completionRatio.append((len(chaseList)-len(tempChaseList))/len(chaseList))\n",
    "        singleSavings.append(singleValue)\n",
    "                \n",
    "    return IOSList, completionRatio, singleSavings"
   ]
  },
  {
   "cell_type": "code",
   "execution_count": 179,
   "id": "fe75c10f",
   "metadata": {},
   "outputs": [
    {
     "name": "stdout",
     "output_type": "stream",
     "text": [
      "0\n",
      "100\n",
      "200\n",
      "300\n",
      "400\n",
      "500\n",
      "600\n",
      "700\n",
      "800\n",
      "900\n"
     ]
    }
   ],
   "source": [
    "### RUN X BOOSTER BATCHES ###\n",
    "# Average IOS over all booster batches\n",
    "# Track chase card completion\n",
    "\n",
    "boosterBatch = 100 # number of boosters in batch\n",
    "batchNumber = 1000 # number of batches\n",
    "IOSTotal = [0]*boosterBatch\n",
    "completionTotal = [0]*boosterBatch\n",
    "singlesTotal = [0]*boosterBatch\n",
    "\n",
    "for i in range(batchNumber):\n",
    "    IOSBatch, completionBatch, singlesBatch = GetBoosterBatch(boosterBatch, baseChaseList, rareChaseList)\n",
    "    IOSTotal = [sum(j) for j in zip(IOSTotal, IOSBatch)] \n",
    "    completionTotal = [sum(j) for j in zip(completionTotal, completionBatch)]\n",
    "    singlesTotal = [sum(j) for j in zip(singlesTotal, singlesBatch)]\n",
    "    \n",
    "    if i%100 == 0:\n",
    "        print(i)"
   ]
  },
  {
   "cell_type": "code",
   "execution_count": 180,
   "id": "dd5126fb",
   "metadata": {},
   "outputs": [
    {
     "data": {
      "image/png": "[encoded data removed]",
      "text/plain": [
       "<Figure size 576x288 with 1 Axes>"
      ]
     },
     "metadata": {
      "needs_background": "light"
     },
     "output_type": "display_data"
    },
    {
     "name": "stdout",
     "output_type": "stream",
     "text": [
      "Optimal booster number: [21.5]\n",
      "Completion ratio: [0.60790164]\n",
      "IOS ratio: [0.60206661]\n"
     ]
    }
   ],
   "source": [
    "# average IOS and normalize to max    \n",
    "IOSTotal_n = [(i/batchNumber)/(max(IOSTotal)/batchNumber) for i in IOSTotal]\n",
    "# average completion\n",
    "completionTotal_n = [i/batchNumber for i in completionTotal]\n",
    "# average singles value\n",
    "singlesTotal_n = [i/batchNumber for i in singlesTotal]\n",
    "\n",
    "xAxis = [i for i in range(boosterBatch)]\n",
    "\n",
    "#plt.scatter(xAxis, IOSTotal)\n",
    "#plt.scatter(xAxis, completionBatch)\n",
    "#plt.ylabel('IOS')\n",
    "#plt.xlabel('Booster number')\n",
    "#plt.show()\n",
    "\n",
    "fig, ax1 = plt.subplots()\n",
    "fig.set_figheight(4)\n",
    "fig.set_figwidth(8)\n",
    "\n",
    "ax1.set_xlabel('Booster number')\n",
    "ax1.set_ylabel(\"Normalized IOS | Normalized Completion ratio\")\n",
    "ax1.plot(xAxis, IOSTotal_n, completionTotal_n)\n",
    "\n",
    "#ax2 = ax1.twinx()  # instantiate a second axes that shares the same x-axis\n",
    "#color = 'tab:red'\n",
    "#ax2.set_ylabel(\"Singles Value (€)\", color=color)  # we already handled the x-label with ax1\n",
    "#ax2.plot(xAxis, singlesTotal_n, color=color)\n",
    "#ax2.tick_params(axis='y', labelcolor=color)\n",
    "\n",
    "idx = np.argwhere(np.diff(np.sign(np.array(IOSTotal_n) - np.array(completionTotal_n)))).flatten()\n",
    "plt.plot((np.array(xAxis)[idx+1]+np.array(xAxis)[idx])/2, (np.array(IOSTotal_n)[idx+1]+np.array(IOSTotal_n)[idx])/2, 'ro')\n",
    "\n",
    "fig.tight_layout()  # otherwise the right y-label is slightly clipped\n",
    "plt.show()\n",
    "\n",
    "print('Optimal booster number:', (idx+1+idx)/2)\n",
    "print('Completion ratio:', (np.array(completionTotal_n)[idx+1]+np.array(completionTotal_n)[idx])/2)\n",
    "print('IOS ratio:', (np.array(IOSTotal_n)[idx+1]+np.array(IOSTotal_n)[idx])/2)"
   ]
  },
  {
   "cell_type": "code",
   "execution_count": 181,
   "id": "f61eafd8",
   "metadata": {},
   "outputs": [
    {
     "name": "stdout",
     "output_type": "stream",
     "text": [
      "[0.0, 0.0, 0.0, 0.0, 0.0, 0.0, 0.0, 0.0, 0.0, 0.0, 0.0, 0.0, 0.0, 0.0, 0.0, 0.0, 0.0, 0.0, 0.0, 0.0, 0.0, 0.0, 0.0, 0.0, 0.0, 0.0, 0.0, 0.0, 0.0, 0.0, 0.0, 0.0, 0.0, 0.0, 0.0, 0.0, 0.0, 0.0, 0.0, 0.0, 0.0, 0.0, 0.0, 0.0, 0.0, 0.0, 0.0, 0.0, 0.0, 0.0, 0.0, 0.0, 0.0, 0.0, 0.0, 0.0, 0.0, 0.0, 0.0, 0.0, 0.0, 0.0, 0.0, 0.0, 0.0, 0.0, 0.0, 0.0, 0.0, 0.0, 0.0, 0.0, 0.0, 0.0, 0.0, 0.0, 0.0, 0.0, 0.0, 0.0, 0.0, 0.0, 0.0, 0.0, 0.0, 0.0, 0.0, 0.0, 0.0, 0.0, 0.0, 0.0, 0.0, 0.0, 0.0, 0.0, 0.0, 0.0, 0.0, 0.0]\n"
     ]
    }
   ],
   "source": [
    "print(singlesTotal_n)"
   ]
  },
  {
   "cell_type": "code",
   "execution_count": null,
   "id": "f59c25dd",
   "metadata": {},
   "outputs": [],
   "source": []
  }
 ],
 "metadata": {
  "kernelspec": {
   "display_name": "Python 3 (ipykernel)",
   "language": "python",
   "name": "python3"
  },
  "language_info": {
   "codemirror_mode": {
    "name": "ipython",
    "version": 3
   },
   "file_extension": ".py",
   "mimetype": "text/x-python",
   "name": "python",
   "nbconvert_exporter": "python",
   "pygments_lexer": "ipython3",
   "version": "3.9.12"
  }
 },
 "nbformat": 4,
 "nbformat_minor": 5
}
