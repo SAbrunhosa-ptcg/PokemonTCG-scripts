{
 "cells": [
  {
   "cell_type": "code",
   "execution_count": 1,
   "id": "16217a30",
   "metadata": {},
   "outputs": [],
   "source": [
    "import requests\n",
    "import re\n",
    "from bs4 import BeautifulSoup\n",
    "import pandas as pd\n",
    "import numpy as np"
   ]
  },
  {
   "cell_type": "code",
   "execution_count": 2,
   "id": "6249d927",
   "metadata": {},
   "outputs": [],
   "source": [
    "def GetMove(webpage, moveNumber):\n",
    "\n",
    "    numbers = r'[0-9+x]'\n",
    "    if moveNumber == 1:\n",
    "        scrapNumber = 2\n",
    "    else:\n",
    "        scrapNumber = 4\n",
    "\n",
    "    # if the block is an attack\n",
    "    if webpage.find_all('p')[scrapNumber]['class'][0] == 'card-text-attack-info' or \\\n",
    "        webpage.find_all('p')[scrapNumber]['class'][0] == 'card-text-ability-info':\n",
    "        # get all text\n",
    "        string = webpage.find_all('p')[scrapNumber].text\n",
    "        # get energy text if it exists\n",
    "        try:\n",
    "            energystring = webpage.find_all('p')[scrapNumber].span.text\n",
    "        except:\n",
    "            energystring = ''\n",
    "\n",
    "        # remove energy text\n",
    "        if energystring in string:\n",
    "            string=string.replace(energystring,'')\n",
    "\n",
    "        # remove Ability text\n",
    "        if \"Ability:\" in string:\n",
    "            string = string.replace(\"Ability:\",'')\n",
    "\n",
    "        # remove numbers and whitespace    \n",
    "        move = re.sub(numbers, '', string).strip()\n",
    "    else:\n",
    "        move = ''\n",
    "    \n",
    "    return move\n",
    "\n",
    "def GetWebpage(URL):\n",
    "    page = requests.get(URL)\n",
    "\n",
    "    webpage = BeautifulSoup(page.content, \"html.parser\")\n",
    "    \n",
    "    return webpage\n",
    "\n",
    "def FormatName(pokemonName, text1, text2):\n",
    "    if text2 == '':\n",
    "        line = pokemonName + \" [\" + text1 + \"]\"\n",
    "    else:\n",
    "        line = pokemonName + \" [\" + text1 + \" | \" + text2 + \"]\"\n",
    "    \n",
    "    return line\n",
    "\n",
    "def GetName(webpage):\n",
    "    string = webpage.find_all('p')[0].text\n",
    "    name = re.sub(r'\\-.*',\"\", string).strip()\n",
    "    return name"
   ]
  },
  {
   "cell_type": "code",
   "execution_count": 3,
   "id": "7d8578e1",
   "metadata": {},
   "outputs": [
    {
     "name": "stdout",
     "output_type": "stream",
     "text": [
      "Stampede\n",
      "Headbutt Bounce\n"
     ]
    }
   ],
   "source": [
    "soup = GetWebpage(\"https://limitlesstcg.com/cards/UNM/112\") # Gible\n",
    "#soup = GetWebpage(\"https://limitlesstcg.com/cards/CEL/11\") # Mew\n",
    "#soup = GetWebpage(\"https://limitlesstcg.com/cards/ASR/60\") # Ralts\n",
    "#soup = GetWebpage(\"https://limitlesstcg.com/cards/CRZ/GG68\") # Dialga VSTAR\n",
    "#soup = GetWebpage(\"https://limitlesstcg.com/cards/SVI/65\") # Magnezone ex\n",
    "print(GetMove(soup, 1))\n",
    "print(GetMove(soup, 2))"
   ]
  },
  {
   "cell_type": "code",
   "execution_count": 4,
   "id": "8c20e70b",
   "metadata": {},
   "outputs": [],
   "source": [
    "### IMPORT DATASET ###\n",
    "data = pd.read_csv(r'C:\\Users\\sofia\\My Drive\\Code\\Python\\PokemonTCG\\WantLists\\WantList_151.csv')\n",
    "setAbb = 'MEW'"
   ]
  },
  {
   "cell_type": "code",
   "execution_count": 5,
   "id": "694d1a3c",
   "metadata": {},
   "outputs": [
    {
     "name": "stdout",
     "output_type": "stream",
     "text": [
      "     Card name  Number\n",
      "0    Bulbasaur       1\n",
      "1      Ivysaur       2\n",
      "2   Charmander       4\n",
      "3   Charmeleon       5\n",
      "4     Squirtle       7\n",
      "5    Wartortle       8\n",
      "6    Sandshrew      27\n",
      "7    Ninetales      38\n",
      "8       Meowth      52\n",
      "9      Poliwag      60\n",
      "10   Poliwhirl      61\n",
      "11   Poliwrath      62\n",
      "12        Abra      63\n",
      "13     Kadabra      64\n",
      "14      Machop      66\n",
      "15     Machoke      67\n",
      "16     Machamp      68\n",
      "17  Tentacruel      73\n",
      "18    Graveler      75\n",
      "19       Golem      76\n",
      "20   Magnemite      81\n",
      "21    Magneton      82\n",
      "22  Farfetch'd      83\n",
      "23    Shellder      90\n",
      "24      Gastly      92\n",
      "25     Haunter      93\n",
      "26      Gengar      94\n",
      "27     Scyther     123\n",
      "28  Electabuzz     125\n",
      "29      Magmar     126\n",
      "30    Magikarp     129\n",
      "31    Gyarados     130\n",
      "32      Lapras     131\n",
      "33    Vaporeon     134\n",
      "34     Jolteon     135\n",
      "35     Flareon     136\n",
      "36    Kabutops     141\n",
      "37    Articuno     144\n",
      "38      Zapdos     145\n",
      "39     Moltres     146\n",
      "40     Dratini     147\n",
      "41   Dragonair     148\n",
      "42   Dragonite     149\n",
      "43      Mewtwo     150\n",
      "44         Mew     151\n",
      "45   Poliwhirl     176\n",
      "46    Mr. Mime     179\n",
      "47   Dragonair     181\n",
      "MEW\n",
      "https://limitlesstcg.com/cards/MEW/\n"
     ]
    }
   ],
   "source": [
    "print(data)\n",
    "print(setAbb)\n",
    "baseURL = \"https://limitlesstcg.com/cards/\" + setAbb + \"/\"\n",
    "print(baseURL)"
   ]
  },
  {
   "cell_type": "code",
   "execution_count": 6,
   "id": "9102cf27",
   "metadata": {},
   "outputs": [
    {
     "name": "stdout",
     "output_type": "stream",
     "text": [
      "Bulbasaur [Leech Seed]\n",
      "Ivysaur [Leech Seed | Vine Whip]\n",
      "Charmander [Blazing Destruction | Steady Firebreathing]\n",
      "Charmeleon [Combustion | Fire Blast]\n",
      "Squirtle [ithdraw | Skull Bash]\n",
      "Wartortle [Free Diving | Spinning Attack]\n",
      "Sandshrew [Sand Screen | Scratch]\n",
      "Ninetales ex [Heat Wave | Mirrored Flames]\n",
      "Meowth [ome Here Right Meow | Dig Claws]\n",
      "Poliwag [Bubble]\n",
      "Poliwhirl [ave Splash | Frog Hop]\n",
      "Poliwrath [Bubble Beam | Heroic Punch]\n",
      "Abra [syshot]\n",
      "Kadabra [Teleportation Attack]\n",
      "Machop [Mountain Mashing | Punch]\n",
      "Machoke [Mountain Ramming]\n",
      "Machamp [Guts | Mountain Chopping]\n",
      "Tentacruel [Poisonous Whip | Tentacular Panic]\n",
      "Graveler [Rock Cannon | Heavy Impact]\n",
      "Golem ex [Dynamic Roll | Rock Blaster]\n",
      "Magnemite [Tiny Charge | Big Eplosion]\n",
      "Magneton [Junk Magnet | Head Bolt]\n",
      "Farfetch'd [Package Deal | Leek lobber]\n",
      "Shellder [Shell Press]\n",
      "Gastly [Suffocating Gas]\n",
      "Haunter [Spirit Return | Mumble]\n",
      "Gengar [oltergeist | Hollow Dive]\n",
      "Scyther [Helpful Slash | Slicing Blade]\n",
      "Electabuzz [Electro Combo | Light Punch]\n",
      "Magmar [Live Coal | Flare Combo]\n",
      "Magikarp [Splashy Splash]\n",
      "Gyarados [Untamed One | Hyper Beam]\n",
      "Lapras [Hop on My Back | Aqua Edge]\n",
      "Vaporeon [Spiral Drain | Fighting Whirlpool]\n",
      "Jolteon [inear Attack | Fighting Lightning]\n",
      "Flareon [Destructive Flame | Fighting Blaze]\n",
      "Kabutops [Ancient Way | Draining Blade]\n",
      "Articuno [Ice Float | Blizzard]\n",
      "Zapdos ex [Voltaic Float | Multishot Lightning]\n",
      "Moltres [Flare Float | Blazing Flight]\n",
      "Dratini [Beat | Draconic Whip]\n",
      "Dragonair [Beat | Aqua Slash]\n",
      "Dragonite [Jet Cruise | Dragon Pulse]\n",
      "Mewtwo [Reflective Barrier | Psyslash]\n",
      "Mew ex [Restart | Genome Hacking]\n",
      "Poliwhirl [ave Splash | Frog Hop]\n",
      "Mr. Mime [Mimic Barrier | Psypower]\n",
      "Dragonair [Beat | Aqua Slash]\n"
     ]
    }
   ],
   "source": [
    "for p in range(len(data)):\n",
    "    cardNumber = data[\"Number\"][p]\n",
    "    fullURL = baseURL + str(cardNumber)\n",
    "    #print(fullURL)\n",
    "    \n",
    "    soup = GetWebpage(fullURL)\n",
    "    print(FormatName(GetName(soup), GetMove(soup, 1), GetMove(soup, 2)))"
   ]
  },
  {
   "cell_type": "code",
   "execution_count": null,
   "id": "66a19345",
   "metadata": {},
   "outputs": [],
   "source": []
  }
 ],
 "metadata": {
  "kernelspec": {
   "display_name": "Python 3 (ipykernel)",
   "language": "python",
   "name": "python3"
  },
  "language_info": {
   "codemirror_mode": {
    "name": "ipython",
    "version": 3
   },
   "file_extension": ".py",
   "mimetype": "text/x-python",
   "name": "python",
   "nbconvert_exporter": "python",
   "pygments_lexer": "ipython3",
   "version": "3.9.12"
  }
 },
 "nbformat": 4,
 "nbformat_minor": 5
}
