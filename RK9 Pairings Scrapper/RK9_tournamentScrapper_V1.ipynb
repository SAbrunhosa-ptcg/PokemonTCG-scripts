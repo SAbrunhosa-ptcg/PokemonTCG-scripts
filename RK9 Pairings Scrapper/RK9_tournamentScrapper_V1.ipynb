{
 "cells": [
  {
   "cell_type": "code",
   "execution_count": 19,
   "id": "9e6b8059-55fe-4256-b9ab-9ea1426dfb5f",
   "metadata": {},
   "outputs": [],
   "source": [
    "import requests\n",
    "import re\n",
    "from bs4 import BeautifulSoup\n",
    "import pandas as pd\n",
    "import numpy as np"
   ]
  },
  {
   "cell_type": "code",
   "execution_count": 30,
   "id": "f9a5e0d1-4363-4bd1-acaa-823a45a25d4f",
   "metadata": {},
   "outputs": [],
   "source": [
    "### CLASSES ###\n",
    "\n",
    "# class to hold individual player information\n",
    "class Player:\n",
    "    def __init__(self, player_id, name, link, classification):\n",
    "        self.id = player_id # unique ID, in case it is useful later (not pokemonID)\n",
    "        self.name = name\n",
    "\n",
    "        self.decklist_link = link\n",
    "        self.classification = classification\n",
    "        self.CP = 0\n",
    "        self.Day2 = False\n",
    "        \n",
    "        self.decklist = []\n",
    "        self.pokemonlist = []\n",
    "        self.archetype = 'Other'\n",
    "        self.variant = 'Lost Kyogre' # RIP"
   ]
  },
  {
   "cell_type": "code",
   "execution_count": 21,
   "id": "8302520d-b7d6-4b65-af4b-2e593b5de51d",
   "metadata": {},
   "outputs": [],
   "source": [
    "### FUNCTIONS ###\n",
    "\n",
    "# get soup from URL\n",
    "def GetWebpage(URL):\n",
    "    page = requests.get(URL)\n",
    "    soup = BeautifulSoup(page.content, \"html.parser\")\n",
    "    return soup\n",
    "\n",
    "# scrap tournament data\n",
    "def GetPlayerData(tournament_soup):  \n",
    "    find_list = tournament_soup.find_all('tr') # get all players from the player table (i.e. table rows)\n",
    "    find_list.pop(0) # pop header row\n",
    "    \n",
    "    # counters for number of players in each division\n",
    "    master_counter = 0\n",
    "    senior_counter = 0 \n",
    "    junior_counter = 0\n",
    "    \n",
    "    # list for Masters players\n",
    "    player_list = []\n",
    "    \n",
    "    for i in range(len(find_list)): # loop through players (i.e. table rows)\n",
    "        player_info = find_list[i].find_all('td') # get player data from the row (i.e. table element)\n",
    "        \n",
    "        # check player division\n",
    "        if 'Masters' in player_info[4]:\n",
    "            master_counter += 1\n",
    "        elif 'Senior' in player_info[4]:\n",
    "            senior_counter += 1\n",
    "            continue\n",
    "        elif 'Junior' in player_info[4]:\n",
    "            junior_counter += 1\n",
    "            continue\n",
    "    \n",
    "        # continue gathering information for Masters players only\n",
    "        player_name = player_info[1].text + \" \" + player_info[2].text.strip()\n",
    "    \n",
    "        player_list.append(Player(i, player_name, \"\", -1))\n",
    "\n",
    "    return player_list, master_counter, senior_counter, junior_counter\n",
    "\n",
    "def ExportData(player_list, filename):\n",
    "    data_list = []\n",
    "    for player in player_list:\n",
    "        temp = [player.id, player.name, player.decklist_link, player.classification, player.CP, player.Day2,\\\n",
    "                player.decklist, player.pokemonlist, player.archetype, player.variant]\n",
    "        data_list.append(temp)\n",
    "    \n",
    "    dataframe = pd.DataFrame(data_list, columns=['ID', 'Name', 'Link', 'Classification', 'CP', 'Day 2',\\\n",
    "                                                 'Decklist', 'Pokemon List', 'Archetype', 'Variant'])\n",
    "    dataframe.to_excel(filename)\n",
    "    \n",
    "def ImportData(filename):\n",
    "    # could use some cleaning, especially for data types, but I am too lazy for now\n",
    "    imported_data = pd.read_excel(filename)\n",
    "    imported_data = imported_data.values.tolist()\n",
    "    \n",
    "    imported_players = []\n",
    "    for player in imported_data:\n",
    "        # __init__(self, player_id, name, link, classification)\n",
    "        new_player = Player(int(player[1]), player[2], player[3], int(player[4]))\n",
    "        new_player.CP = int(player[5])\n",
    "        new_player.Day2 = bool(player[6])\n",
    "        new_player.decklist = np.array(eval(player[7])).tolist()\n",
    "        new_player.pokemonlist = np.array(eval(player[8])).tolist()\n",
    "        new_player.archetype = player[9]\n",
    "        new_player.variant = player[10]\n",
    "        imported_players.append(new_player)\n",
    "    return imported_players"
   ]
  },
  {
   "cell_type": "code",
   "execution_count": 6,
   "id": "eb7d51da-d162-4804-ad33-56c86580a0d0",
   "metadata": {},
   "outputs": [],
   "source": [
    "# webpage of tournament roster\n",
    "soup_roster = GetWebpage(\"https://rk9.gg/roster/EU01wICdQN8zZclF7NTW\")"
   ]
  },
  {
   "cell_type": "code",
   "execution_count": 22,
   "id": "6bd0a63a-1bad-4617-a02d-32889c9dacf2",
   "metadata": {},
   "outputs": [
    {
     "name": "stdout",
     "output_type": "stream",
     "text": [
      "Tournament data retrieved!\n",
      "---------------------------------\n",
      "Master players: 3361\n",
      "Senior players: 327\n",
      "Junior players: 280\n",
      "Total players: 3968\n",
      "---------------------------------\n"
     ]
    }
   ],
   "source": [
    "### Scrap roster data ###\n",
    "player_list, master_counter, senior_counter, junior_counter = GetPlayerData(soup_roster)\n",
    "\n",
    "print(\"Tournament data retrieved!\")\n",
    "print(\"---------------------------------\")\n",
    "\n",
    "print(\"Master players: \" + str(master_counter))\n",
    "print(\"Senior players: \" + str(senior_counter))\n",
    "print(\"Junior players: \" + str(junior_counter))\n",
    "print(\"Total players: \" + str(master_counter + senior_counter + junior_counter))\n",
    "print(\"---------------------------------\")"
   ]
  },
  {
   "cell_type": "code",
   "execution_count": 23,
   "id": "73e769ca-4333-45d4-adac-dbc7affde104",
   "metadata": {},
   "outputs": [],
   "source": [
    "####################### DO NOT USE UNLESS SCRAPPING WAS JUST DONE #######################\n",
    "### Export player list ###\n",
    "# this is so the next sections can be run without running the scrapping all over again (\\approx 1 hour...)\n",
    "\n",
    "filename = \"Tournament data - EUIC2025/PlayerList.xlsx\"\n",
    "\n",
    "ExportData(player_list, filename) # Export to excel\n",
    "#########################################################################################"
   ]
  },
  {
   "cell_type": "code",
   "execution_count": 65,
   "id": "a475453c",
   "metadata": {},
   "outputs": [
    {
     "name": "stdout",
     "output_type": "stream",
     "text": [
      "Alejandro Chacon\n",
      "Other\n",
      "Lost Kyogre\n"
     ]
    }
   ],
   "source": [
    "### Import saved data ###\n",
    "filename = \"Tournament data - EUIC2025/PlayerList.xlsx\"\n",
    "# there are some complications with importing since all imports are strings and some columns contain other things \n",
    "# should clean this up later, but for now the decklist is all that matters\n",
    "player_list = ImportData(filename) \n",
    "\n",
    "#print(np.array(eval(player_list[0].decklist)).tolist())\n",
    "\n",
    "print(player_list[0].name)\n",
    "print(player_list[0].archetype)\n",
    "print(player_list[0].variant)"
   ]
  },
  {
   "cell_type": "code",
   "execution_count": 66,
   "id": "58ae0251-b04d-4461-bff8-391aa39f131a",
   "metadata": {},
   "outputs": [
    {
     "name": "stdout",
     "output_type": "stream",
     "text": [
      "Alessio Cefola\n",
      "Shauna Smith\n",
      "Merlin Bresinski\n",
      "Matteo Spalletta\n",
      "Cyrielle Danel\n",
      "Soo-Bin Audouy\n",
      "Richard Yannow\n",
      "Rene Ess\n",
      "Nina Eisenblätter\n",
      "Berry Agricola\n",
      "Arthur Kerbiquet\n",
      "Jory Koot\n"
     ]
    }
   ],
   "source": [
    "# loop to look at individual decks (nice to validate deck selection conditions)\n",
    "for player in player_list:\n",
    "    if player.archetype == 'Gardevoir ex':\n",
    "        print(str(player.name))\n",
    "        continue\n"
   ]
  },
  {
   "cell_type": "code",
   "execution_count": 67,
   "id": "48161be4",
   "metadata": {},
   "outputs": [
    {
     "name": "stdout",
     "output_type": "stream",
     "text": [
      "Charizard Pidgeot; 2; 0; 0\n",
      "Ancient Box; 1; 0; 0\n",
      "Archaludon ex; 12; 0; 0\n",
      "Banette Gardevoir; 0; 0; 0\n",
      "Ceruledge ex; 5; 0; 0\n",
      "Regidrago VSTAR; 1; 0; 0\n",
      "Dragapult Dusknoir; 16; 0; 0\n",
      "Dragapult Pidgeot; 0; 0; 0\n",
      "Dragapult Iron Thorns; 0; 0; 0\n",
      "DragaZard ex; 1; 0; 0\n",
      "Gardevoir ex; 12; 0; 0\n",
      "Poison Terapagos; 3; 0; 0\n",
      "Lost Zone Box; 3; 0; 0\n",
      "Roaring Moon ex; 2; 0; 0\n",
      "Pidgeot Control; 0; 0; 0\n",
      "Snorlax Stall; 2; 0; 0\n",
      "Lugia Archeops; 6; 0; 0\n",
      "Gholdengo ex; 11; 0; 0\n",
      "Miraidon ex; 10; 0; 0\n",
      "Raging Bolt; 5; 0; 0\n",
      "Gouging Fire; 1; 0; 0\n",
      "Wall; 1; 0; 0\n",
      "Terapagos Dusknoir; 0; 0; 0\n",
      "Palkia; 1; 0; 0\n",
      "Other; 3266; 0; 0\n"
     ]
    }
   ],
   "source": [
    "# Calculate metashare\n",
    "# 'deck name':[number of players with deck, number of players in Day 2 with deck, total CP won by deck]\n",
    "archetypes = {'Charizard Pidgeot':[0,0,0], 'Ancient Box':[0,0,0], 'Archaludon ex':[0,0,0], 'Banette Gardevoir':[0,0,0], 'Ceruledge ex':[0,0,0],\\\n",
    "              'Regidrago VSTAR':[0,0,0], 'Dragapult Dusknoir':[0,0,0], 'Dragapult Pidgeot':[0,0,0], 'Dragapult Iron Thorns':[0,0,0],\\\n",
    "              'DragaZard ex':[0,0,0], 'Gardevoir ex':[0,0,0], 'Poison Terapagos':[0,0,0], 'Lost Zone Box':[0,0,0], 'Roaring Moon ex':[0,0,0],\\\n",
    "              'Pidgeot Control':[0,0,0], 'Snorlax Stall':[0,0,0], 'Lugia Archeops':[0,0,0], 'Gholdengo ex':[0,0,0], 'Miraidon ex':[0,0,0],\\\n",
    "              'Raging Bolt':[0,0,0], 'Gouging Fire':[0,0,0], 'Wall':[0,0,0], 'Terapagos Dusknoir':[0,0,0], 'Palkia':[0,0,0], 'Other':[0,0,0]}\n",
    "\n",
    "# compile info for each deck\n",
    "for player in player_list:\n",
    "    archetypes[player.archetype][0] += 1 # number of players in Day 1 with deck \n",
    "    archetypes[player.archetype][2] += player.CP # total CP won by deck\n",
    "    if player.Day2:\n",
    "        #if player.classification == 184:\n",
    "            #print(player.name) # confirming I did the Day 2 kicker correctly (double check with Pokedata/Limitless)\n",
    "        archetypes[player.archetype][1] += 1 # number of players in Day 2 with deck\n",
    "        \n",
    "\n",
    "#print(imported_players[0].decklist)\n",
    "#print(imported_players[0].deck)\n",
    "\n",
    "# print info (easy to copy to excel, could just export later)\n",
    "for arch in archetypes:\n",
    "    print(str(arch) + \"; \" + str(archetypes[arch][0]) + \"; \" + str(archetypes[arch][1]) + \"; \" + str(archetypes[arch][2]))"
   ]
  },
  {
   "cell_type": "code",
   "execution_count": null,
   "id": "8a562d32-3fe7-46e4-817e-b7de12a02f89",
   "metadata": {},
   "outputs": [],
   "source": []
  }
 ],
 "metadata": {
  "kernelspec": {
   "display_name": "Python 3 (ipykernel)",
   "language": "python",
   "name": "python3"
  },
  "language_info": {
   "codemirror_mode": {
    "name": "ipython",
    "version": 3
   },
   "file_extension": ".py",
   "mimetype": "text/x-python",
   "name": "python",
   "nbconvert_exporter": "python",
   "pygments_lexer": "ipython3",
   "version": "3.12.4"
  }
 },
 "nbformat": 4,
 "nbformat_minor": 5
}
