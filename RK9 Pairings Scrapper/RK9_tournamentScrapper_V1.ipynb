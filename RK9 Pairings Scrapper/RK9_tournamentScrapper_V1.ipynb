{
 "cells": [
  {
   "cell_type": "code",
   "execution_count": 1,
   "id": "9e6b8059-55fe-4256-b9ab-9ea1426dfb5f",
   "metadata": {},
   "outputs": [],
   "source": [
    "import requests\n",
    "import re\n",
    "from bs4 import BeautifulSoup\n",
    "import json\n",
    "import pandas as pd\n",
    "import numpy as np"
   ]
  },
  {
   "cell_type": "code",
   "execution_count": 10,
   "id": "f9a5e0d1-4363-4bd1-acaa-823a45a25d4f",
   "metadata": {},
   "outputs": [],
   "source": [
    "### CLASSES ###\n",
    "\n",
    "# class to hold individual player information\n",
    "class Player:\n",
    "    def __init__(self, player_id, name, link, classification):\n",
    "        self.id = player_id # unique ID, in case it is useful later (not pokemonID)\n",
    "        self.name = name\n",
    "\n",
    "        self.decklist_link = link\n",
    "        self.classification = classification\n",
    "        self.CP = 0\n",
    "        self.Day2 = False\n",
    "\n",
    "        self.round_data = [] # [['Opponent 1 name', 'W'], ['Opponent 2 name', 'L'], ...]\n",
    "        self.score = [0, 0, 0] # W, L, T\n",
    "        \n",
    "        self.round_data = {'R1': ['Jane Doe', 'W']}\n",
    "        \n",
    "        self.decklist = []\n",
    "        self.pokemonlist = []\n",
    "        self.archetype = 'Other'\n",
    "        self.variant = 'Lost Kyogre' # RIP"
   ]
  },
  {
   "cell_type": "code",
   "execution_count": 12,
   "id": "8302520d-b7d6-4b65-af4b-2e593b5de51d",
   "metadata": {},
   "outputs": [],
   "source": [
    "### FUNCTIONS ###\n",
    "\n",
    "# get soup from URL\n",
    "def GetWebpage(URL):\n",
    "    page = requests.get(URL)\n",
    "    soup = BeautifulSoup(page.content, \"html.parser\")\n",
    "    return soup\n",
    "\n",
    "# scrap tournament data\n",
    "def GetPlayerData(tournament_soup):  \n",
    "    find_list = tournament_soup.find_all('tr') # get all players from the player table (i.e. table rows)\n",
    "    find_list.pop(0) # pop header row\n",
    "    \n",
    "    # counters for number of players in each division\n",
    "    master_counter = 0\n",
    "    senior_counter = 0 \n",
    "    junior_counter = 0\n",
    "    \n",
    "    # list for Masters players\n",
    "    player_list = []\n",
    "    \n",
    "    for i in range(len(find_list)): # loop through players (i.e. table rows)\n",
    "        player_info = find_list[i].find_all('td') # get player data from the row (i.e. table element)\n",
    "        \n",
    "        # check player division\n",
    "        if 'Masters' in player_info[4]:\n",
    "            master_counter += 1\n",
    "        elif 'Senior' in player_info[4]:\n",
    "            senior_counter += 1\n",
    "            continue\n",
    "        elif 'Junior' in player_info[4]:\n",
    "            junior_counter += 1\n",
    "            continue\n",
    "    \n",
    "        # continue gathering information for Masters players only\n",
    "        player_name = player_info[1].text + \" \" + player_info[2].text.strip()\n",
    "    \n",
    "        player_list.append(Player(i, player_name, \"\", -1)) # player.id will correspond to i in this loop (i.e. player number including JR/SR)\n",
    "\n",
    "    return player_list, master_counter, senior_counter, junior_counter\n",
    "\n",
    "def ExportData(player_list, filename):\n",
    "    data_list = []\n",
    "    for player in player_list:\n",
    "        temp = [player.id, player.name, player.decklist_link, player.classification, player.CP, player.Day2,\\\n",
    "                player.round_data, player.score,\\\n",
    "                player.decklist, player.pokemonlist, player.archetype, player.variant]\n",
    "        data_list.append(temp)\n",
    "    \n",
    "    dataframe = pd.DataFrame(data_list, columns=['ID', 'Name', 'Link', 'Classification', 'CP', 'Day 2',\\\n",
    "                                                 'Rounds', 'Score',\\\n",
    "                                                 'Decklist', 'Pokemon List', 'Archetype', 'Variant'])\n",
    "    dataframe.to_excel(filename)\n",
    "    \n",
    "def ImportData(filename):\n",
    "    # could use some cleaning, especially for data types, but I am too lazy for now\n",
    "    imported_data = pd.read_excel(filename)\n",
    "    imported_data = imported_data.values.tolist()\n",
    "    \n",
    "    imported_players = []\n",
    "    for player in imported_data:\n",
    "        # __init__(self, player_id, name, link, classification)\n",
    "        new_player = Player(int(player[1]), player[2], player[3], int(player[4]))\n",
    "        new_player.CP = int(player[5])\n",
    "        new_player.Day2 = bool(player[6])\n",
    "        new_player.round_data = np.array(eval(player[7])).tolist()\n",
    "        new_player.score = np.array(eval(player[8])).tolist()\n",
    "        new_player.decklist = np.array(eval(player[9])).tolist()\n",
    "        new_player.pokemonlist = np.array(eval(player[10])).tolist()\n",
    "        new_player.archetype = player[11]\n",
    "        new_player.variant = player[12]\n",
    "        imported_players.append(new_player)\n",
    "    return imported_players"
   ]
  },
  {
   "cell_type": "code",
   "execution_count": 16,
   "id": "eb7d51da-d162-4804-ad33-56c86580a0d0",
   "metadata": {},
   "outputs": [],
   "source": [
    "# webpage of tournament roster\n",
    "soup_roster = GetWebpage(\"https://rk9.gg/roster/EU01wICdQN8zZclF7NTW\")"
   ]
  },
  {
   "cell_type": "code",
   "execution_count": 17,
   "id": "6bd0a63a-1bad-4617-a02d-32889c9dacf2",
   "metadata": {},
   "outputs": [
    {
     "name": "stdout",
     "output_type": "stream",
     "text": [
      "Tournament data retrieved!\n",
      "---------------------------------\n",
      "Master players: 3354\n",
      "Senior players: 327\n",
      "Junior players: 279\n",
      "Total players: 3960\n",
      "---------------------------------\n"
     ]
    }
   ],
   "source": [
    "### Scrap roster data ###\n",
    "player_list, master_counter, senior_counter, junior_counter = GetPlayerData(soup_roster)\n",
    "\n",
    "print(\"Tournament data retrieved!\")\n",
    "print(\"---------------------------------\")\n",
    "\n",
    "print(\"Master players: \" + str(master_counter))\n",
    "print(\"Senior players: \" + str(senior_counter))\n",
    "print(\"Junior players: \" + str(junior_counter))\n",
    "print(\"Total players: \" + str(master_counter + senior_counter + junior_counter))\n",
    "print(\"---------------------------------\")"
   ]
  },
  {
   "cell_type": "code",
   "execution_count": 18,
   "id": "73e769ca-4333-45d4-adac-dbc7affde104",
   "metadata": {},
   "outputs": [],
   "source": [
    "####################### DO NOT USE UNLESS SCRAPPING WAS JUST DONE #######################\n",
    "### Export player list ###\n",
    "# this is so the next sections can be run without running the scrapping all over again (\\approx 1 hour...)\n",
    "\n",
    "filename = \"Tournament data - EUIC2025/PlayerList.xlsx\"\n",
    "\n",
    "ExportData(player_list, filename) # Export to excel\n",
    "#########################################################################################"
   ]
  },
  {
   "cell_type": "code",
   "execution_count": 19,
   "id": "a475453c",
   "metadata": {},
   "outputs": [
    {
     "name": "stdout",
     "output_type": "stream",
     "text": [
      "Alejandro Chacon\n",
      "{'R1': ['Jane Doe', 'W']}\n",
      "[0, 0, 0]\n",
      "Other\n",
      "Lost Kyogre\n"
     ]
    }
   ],
   "source": [
    "### Import saved data ###\n",
    "filename = \"Tournament data - EUIC2025/PlayerList.xlsx\"\n",
    "# there are some complications with importing since all imports are strings and some columns contain other things \n",
    "# should clean this up later, but for now the decklist is all that matters\n",
    "player_list = ImportData(filename) \n",
    "\n",
    "#print(np.array(eval(player_list[0].decklist)).tolist())\n",
    "\n",
    "print(player_list[0].name)\n",
    "print(player_list[0].round_data)\n",
    "print(player_list[0].score)\n",
    "print(player_list[0].archetype)\n",
    "print(player_list[0].variant)"
   ]
  },
  {
   "cell_type": "code",
   "execution_count": 24,
   "id": "58ae0251-b04d-4461-bff8-391aa39f131a",
   "metadata": {},
   "outputs": [],
   "source": [
    "# loop to look at individual decks (nice to validate deck selection conditions)\n",
    "for player in player_list:\n",
    "    if player.archetype == 'Gardevoir ex':\n",
    "        print(str(player.name))\n",
    "        continue\n"
   ]
  },
  {
   "cell_type": "code",
   "execution_count": 26,
   "id": "8a562d32-3fe7-46e4-817e-b7de12a02f89",
   "metadata": {},
   "outputs": [],
   "source": [
    "# webpage of tournament pairings\n",
    "soup_pairings = GetWebpage(\"https://rk9.gg/pairings/EU01wICdQN8zZclF7NTW?pod=2&rnd=1\") # pod=2&rnd=2 etc."
   ]
  },
  {
   "cell_type": "code",
   "execution_count": 27,
   "id": "b53060f6-2021-4cb9-98eb-046a73ac6d2a",
   "metadata": {},
   "outputs": [
    {
     "name": "stdout",
     "output_type": "stream",
     "text": [
      "[<div class=\"col-5 text-center player player1 winner\" id=\"cell-2-1-0-1\"><span class=\"name\">Ben<br/> Shannon [UK]<br/></span> (1-0-0) 3 pts <br/></div>, <div class=\"col-5 text-center player player1\" id=\"cell-2-1-0-1\"><span class=\"name\">Tyler<br/> Hammond [UK]<br/></span> (0-1-0) 0 pts <br/></div>, <div class=\"col-5 text-center player player1\" id=\"cell-2-1-0-1\"><span class=\"name\">Jordan<br/> Peacock [UK]<br/></span> (0-1-0) 0 pts <br/></div>, <div class=\"col-5 text-center player player1\" id=\"cell-2-1-0-1\"><span class=\"name\">Maximilien<br/> Mairey [FR]<br/></span> (0-1-0) 0 pts <br/></div>, <div class=\"col-5 text-center player player1\" id=\"cell-2-1-0-1\"><span class=\"name\">Giuseppe<br/> Ametrano [IT]<br/></span> (0-1-0) 0 pts <br/></div>, <div class=\"col-5 text-center player player1\" id=\"cell-2-1-0-1\"><span class=\"name\">Benjamin<br/> Rabaiotti [UK]<br/></span> (0-1-0) 0 pts <br/></div>, <div class=\"col-5 text-center player player1\" id=\"cell-2-1-0-1\"><span class=\"name\">Sacha<br/> Scoppa<br/></span> (0-1-0) 0 pts <br/></div>, <div class=\"col-5 text-center player player1\" id=\"cell-2-1-0-1\"><span class=\"name\">Jesus<br/> Nogales<br/></span> (0-1-0) 0 pts <br/></div>, <div class=\"col-5 text-center player player1\" id=\"cell-2-1-0-1\"><span class=\"name\">Ellie<br/> Frank<br/></span> (0-1-0) 0 pts <br/></div>]\n"
     ]
    }
   ],
   "source": [
    "find_list = soup_pairings.find_all('div', id=\"cell-2-1-0-1\")\n",
    "print(find_list)"
   ]
  },
  {
   "cell_type": "code",
   "execution_count": null,
   "id": "53f34c8d-21ab-461d-a1b1-6f7024dfa5f3",
   "metadata": {},
   "outputs": [],
   "source": []
  }
 ],
 "metadata": {
  "kernelspec": {
   "display_name": "Python [conda env:base] *",
   "language": "python",
   "name": "conda-base-py"
  },
  "language_info": {
   "codemirror_mode": {
    "name": "ipython",
    "version": 3
   },
   "file_extension": ".py",
   "mimetype": "text/x-python",
   "name": "python",
   "nbconvert_exporter": "python",
   "pygments_lexer": "ipython3",
   "version": "3.12.7"
  }
 },
 "nbformat": 4,
 "nbformat_minor": 5
}
